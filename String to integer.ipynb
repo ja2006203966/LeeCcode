{
 "cells": [
  {
   "cell_type": "markdown",
   "metadata": {},
   "source": [
    "Implement the myAtoi(string s) function, which converts a string to a 32-bit signed integer (similar to C/C++'s atoi function).\n",
    "\n",
    "The algorithm for myAtoi(string s) is as follows:\n",
    "\n",
    "Read in and ignore any leading whitespace.\n",
    "Check if the next character (if not already at the end of the string) is '-' or '+'. Read this character in if it is either. This determines if the final result is negative or positive respectively. Assume the result is positive if neither is present.\n",
    "Read in next the characters until the next non-digit charcter or the end of the input is reached. The rest of the string is ignored.\n",
    "Convert these digits into an integer (i.e. \"123\" -> 123, \"0032\" -> 32). If no digits were read, then the integer is 0. Change the sign as necessary (from step 2).\n",
    "If the integer is out of the 32-bit signed integer range [-231, 231 - 1], then clamp the integer so that it remains in the range. Specifically, integers less than -231 should be clamped to -231, and integers greater than 231 - 1 should be clamped to 231 - 1.\n",
    "Return the integer as the final result.\n",
    "Note:\n",
    "\n",
    "Only the space character ' ' is considered a whitespace character.\n",
    "Do not ignore any characters other than the leading whitespace or the rest of the string after the digits.\n",
    " \n",
    "\n",
    "Example 1:\n",
    "\n",
    "Input: s = \"42\"\n",
    "Output: 42\n",
    "Explanation: The underlined characters are what is read in, the caret is the current reader position.\n",
    "Step 1: \"42\" (no characters read because there is no leading whitespace)\n",
    "         ^\n",
    "Step 2: \"42\" (no characters read because there is neither a '-' nor '+')\n",
    "         ^\n",
    "Step 3: \"42\" (\"42\" is read in)\n",
    "           ^\n",
    "The parsed integer is 42.\n",
    "Since 42 is in the range [-231, 231 - 1], the final result is 42.\n",
    "Example 2:\n",
    "\n",
    "Input: s = \"   -42\"\n",
    "Output: -42\n",
    "Explanation:\n",
    "Step 1: \"   -42\" (leading whitespace is read and ignored)\n",
    "            ^\n",
    "Step 2: \"   -42\" ('-' is read, so the result should be negative)\n",
    "             ^\n",
    "Step 3: \"   -42\" (\"42\" is read in)\n",
    "               ^\n",
    "The parsed integer is -42.\n",
    "Since -42 is in the range [-231, 231 - 1], the final result is -42.\n",
    "Example 3:\n",
    "\n",
    "Input: s = \"4193 with words\"\n",
    "Output: 4193\n",
    "Explanation:\n",
    "Step 1: \"4193 with words\" (no characters read because there is no leading whitespace)\n",
    "         ^\n",
    "Step 2: \"4193 with words\" (no characters read because there is neither a '-' nor '+')\n",
    "         ^\n",
    "Step 3: \"4193 with words\" (\"4193\" is read in; reading stops because the next character is a non-digit)\n",
    "             ^\n",
    "The parsed integer is 4193.\n",
    "Since 4193 is in the range [-231, 231 - 1], the final result is 4193.\n",
    "Example 4:\n",
    "\n",
    "Input: s = \"words and 987\"\n",
    "Output: 0\n",
    "Explanation:\n",
    "Step 1: \"words and 987\" (no characters read because there is no leading whitespace)\n",
    "         ^\n",
    "Step 2: \"words and 987\" (no characters read because there is neither a '-' nor '+')\n",
    "         ^\n",
    "Step 3: \"words and 987\" (reading stops immediately because there is a non-digit 'w')\n",
    "         ^\n",
    "The parsed integer is 0 because no digits were read.\n",
    "Since 0 is in the range [-231, 231 - 1], the final result is 0.\n",
    "Example 5:\n",
    "\n",
    "Input: s = \"-91283472332\"\n",
    "Output: -2147483648\n",
    "Explanation:\n",
    "Step 1: \"-91283472332\" (no characters read because there is no leading whitespace)\n",
    "         ^\n",
    "Step 2: \"-91283472332\" ('-' is read, so the result should be negative)\n",
    "          ^\n",
    "Step 3: \"-91283472332\" (\"91283472332\" is read in)\n",
    "                     ^\n",
    "The parsed integer is -91283472332.\n",
    "Since -91283472332 is less than the lower bound of the range [-231, 231 - 1], the final result is clamped to -231 = -2147483648.\n",
    " \n",
    "\n",
    "Constraints:\n",
    "\n",
    "0 <= s.length <= 200\n",
    "s consists of English letters (lower-case and upper-case), digits (0-9), ' ', '+', '-', and '.'."
   ]
  },
  {
   "cell_type": "code",
   "execution_count": null,
   "metadata": {},
   "outputs": [],
   "source": [
    "## Answer 1\n",
    "class Solution:\n",
    "    def check(self, x: int)-> int:\n",
    "        lm = 2**31\n",
    "        if x< -lm:\n",
    "            return -lm\n",
    "        if x> lm-1:\n",
    "            return lm-1\n",
    "        return x\n",
    "    def myAtoi(self, s: str) -> int:\n",
    "        N = set(\"0123456789-+ \")\n",
    "        NUM = set(\"0123456789\")\n",
    "        sign, ans, start = 1, 0, 0\n",
    "        for i in s:\n",
    "            if i not in N:\n",
    "                break\n",
    "            if start ==1 and i not in NUM:\n",
    "                break\n",
    "            if i in NUM:\n",
    "                start =1\n",
    "            if i== \"-\" or i ==\"+\":\n",
    "                if start ==0:\n",
    "                    start =1\n",
    "                else:\n",
    "                    break\n",
    "                if i == \"-\":\n",
    "                    sign = -1\n",
    "            if i in NUM:\n",
    "                ans = ans*10+int(i)\n",
    "        ans = ans*sign\n",
    "        ans = self.check(ans)\n",
    "        return ans\n"
   ]
  },
  {
   "cell_type": "code",
   "execution_count": 28,
   "metadata": {},
   "outputs": [],
   "source": [
    "## Answer 2\n",
    "class Solution:\n",
    "    def check(self, x: int)-> int:\n",
    "        lm = 2**31\n",
    "        if x< -lm:\n",
    "            return -lm\n",
    "        if x> lm-1:\n",
    "            return lm-1\n",
    "        return x\n",
    "    def myAtoi(self, s: str) -> int:\n",
    "        N = \"0123456789-+ \"\n",
    "        NUM = \"0123456789\"\n",
    "        Sn = \"+-\"\n",
    "        sign, ans, start = 1, 0, 0\n",
    "        for i in s:\n",
    "            if i not in N:\n",
    "                break\n",
    "            if start ==1 and i not in NUM:\n",
    "                break\n",
    "            if i in NUM or i in Sn:\n",
    "                if start ==1 and i not in NUM:\n",
    "                    break\n",
    "                if start ==0:\n",
    "                    start =1\n",
    "                if i == \"-\":\n",
    "                    sign = -1\n",
    "            if i in NUM:\n",
    "                ans = ans*10+int(i)\n",
    "        ans = ans*sign\n",
    "        ans = self.check(ans)\n",
    "        return ans"
   ]
  },
  {
   "cell_type": "code",
   "execution_count": 44,
   "metadata": {},
   "outputs": [],
   "source": [
    "## Answer 3\n",
    "class Solution:\n",
    "    def check(self, x: int)-> int:\n",
    "        lm = 2**31\n",
    "        if x< -lm:\n",
    "            return -lm\n",
    "        if x> lm-1:\n",
    "            return lm-1\n",
    "        return x\n",
    "    def myAtoi(self, s: str) -> int:\n",
    "        s = s.lstrip() \n",
    "        sign, ans, start = 1, 0, 0\n",
    "        if len(s)==0:\n",
    "            return 0\n",
    "        if s[0] == \"+\":\n",
    "            start=1\n",
    "        if s[0] == \"-\":\n",
    "            start=1\n",
    "            sign = -1\n",
    "        for i in s[start:]:\n",
    "            if not i.isnumeric():\n",
    "                break\n",
    "            ans = ans*10+int(i)\n",
    "        ans = ans*sign\n",
    "        ans = self.check(ans)\n",
    "        return ans\n"
   ]
  },
  {
   "cell_type": "code",
   "execution_count": 42,
   "metadata": {},
   "outputs": [],
   "source": [
    "s = \"123456\""
   ]
  },
  {
   "cell_type": "code",
   "execution_count": 43,
   "metadata": {},
   "outputs": [
    {
     "data": {
      "text/plain": [
       "'23456'"
      ]
     },
     "execution_count": 43,
     "metadata": {},
     "output_type": "execute_result"
    }
   ],
   "source": [
    "s[1:]"
   ]
  },
  {
   "cell_type": "code",
   "execution_count": 36,
   "metadata": {},
   "outputs": [
    {
     "ename": "ValueError",
     "evalue": "invalid literal for int() with base 10: ' '",
     "output_type": "error",
     "traceback": [
      "\u001b[0;31m---------------------------------------------------------------------------\u001b[0m",
      "\u001b[0;31mValueError\u001b[0m                                Traceback (most recent call last)",
      "\u001b[0;32m<ipython-input-36-a0b4e5e509c2>\u001b[0m in \u001b[0;36m<module>\u001b[0;34m\u001b[0m\n\u001b[0;32m----> 1\u001b[0;31m \u001b[0mint\u001b[0m\u001b[0;34m(\u001b[0m\u001b[0;34m\" \"\u001b[0m\u001b[0;34m)\u001b[0m\u001b[0;34m\u001b[0m\u001b[0;34m\u001b[0m\u001b[0m\n\u001b[0m",
      "\u001b[0;31mValueError\u001b[0m: invalid literal for int() with base 10: ' '"
     ]
    }
   ],
   "source": [
    "int(\" \")"
   ]
  },
  {
   "cell_type": "code",
   "execution_count": 30,
   "metadata": {},
   "outputs": [
    {
     "data": {
      "text/plain": [
       "['', '', '', '123']"
      ]
     },
     "execution_count": 30,
     "metadata": {},
     "output_type": "execute_result"
    }
   ],
   "source": [
    "\"   123\".split(\" \")"
   ]
  },
  {
   "cell_type": "code",
   "execution_count": 45,
   "metadata": {},
   "outputs": [
    {
     "data": {
      "text/plain": [
       "-42"
      ]
     },
     "execution_count": 45,
     "metadata": {},
     "output_type": "execute_result"
    }
   ],
   "source": [
    "Solution().myAtoi(\"   -42\")"
   ]
  },
  {
   "cell_type": "code",
   "execution_count": 22,
   "metadata": {},
   "outputs": [
    {
     "data": {
      "text/plain": [
       "True"
      ]
     },
     "execution_count": 22,
     "metadata": {},
     "output_type": "execute_result"
    }
   ],
   "source": [
    "\"1\" in \"12312\""
   ]
  },
  {
   "cell_type": "code",
   "execution_count": 20,
   "metadata": {},
   "outputs": [
    {
     "data": {
      "text/plain": [
       "{'1', '2', '3', 'e'}"
      ]
     },
     "execution_count": 20,
     "metadata": {},
     "output_type": "execute_result"
    }
   ],
   "source": [
    "set(\"123\").union(set(\"12e123\"))"
   ]
  },
  {
   "cell_type": "code",
   "execution_count": null,
   "metadata": {},
   "outputs": [],
   "source": []
  },
  {
   "cell_type": "code",
   "execution_count": 13,
   "metadata": {},
   "outputs": [
    {
     "ename": "ValueError",
     "evalue": "invalid literal for int() with base 10: '+'",
     "output_type": "error",
     "traceback": [
      "\u001b[0;31m---------------------------------------------------------------------------\u001b[0m",
      "\u001b[0;31mValueError\u001b[0m                                Traceback (most recent call last)",
      "\u001b[0;32m<ipython-input-13-cf37f1ef4be4>\u001b[0m in \u001b[0;36m<module>\u001b[0;34m\u001b[0m\n\u001b[0;32m----> 1\u001b[0;31m \u001b[0mint\u001b[0m\u001b[0;34m(\u001b[0m\u001b[0;34m\"+\"\u001b[0m\u001b[0;34m)\u001b[0m\u001b[0;34m\u001b[0m\u001b[0;34m\u001b[0m\u001b[0m\n\u001b[0m",
      "\u001b[0;31mValueError\u001b[0m: invalid literal for int() with base 10: '+'"
     ]
    }
   ],
   "source": [
    "int(\"+\")"
   ]
  },
  {
   "cell_type": "code",
   "execution_count": 2,
   "metadata": {},
   "outputs": [],
   "source": [
    "## My Improvement\n",
    "class Solution:\n",
    "    def check(self, x: int)-> int:\n",
    "        lm = 2**31\n",
    "        if x< -lm:\n",
    "            return -lm\n",
    "        if x> lm-1:\n",
    "            return lm-1\n",
    "        return x\n",
    "    def myAtoi(self, s: str) -> int:\n",
    "        N = set(\"0123456789-\")\n",
    "        NUM = set(\"0123456789\")\n",
    "        start, ans = 0, 0\n",
    "        for i in s:\n",
    "            if i in N:\n",
    "                if start==0 and i==\"-\":\n",
    "                    start = -1\n",
    "                if i in NUM:\n",
    "                    ans = ans*10+int(i)\n",
    "            if not i in N and start !=0:\n",
    "                break\n",
    "        ans = self.check(ans)\n",
    "        ans = ans*start if start == -1 else ans\n",
    "        return ans"
   ]
  },
  {
   "cell_type": "code",
   "execution_count": 1,
   "metadata": {},
   "outputs": [
    {
     "data": {
      "text/plain": [
       "{'1', '2', '3'}"
      ]
     },
     "execution_count": 1,
     "metadata": {},
     "output_type": "execute_result"
    }
   ],
   "source": [
    "set(\"123\")"
   ]
  },
  {
   "cell_type": "code",
   "execution_count": null,
   "metadata": {},
   "outputs": [],
   "source": []
  }
 ],
 "metadata": {
  "kernelspec": {
   "display_name": "Python 3",
   "language": "python",
   "name": "python3"
  },
  "language_info": {
   "codemirror_mode": {
    "name": "ipython",
    "version": 3
   },
   "file_extension": ".py",
   "mimetype": "text/x-python",
   "name": "python",
   "nbconvert_exporter": "python",
   "pygments_lexer": "ipython3",
   "version": "3.6.9"
  }
 },
 "nbformat": 4,
 "nbformat_minor": 4
}
