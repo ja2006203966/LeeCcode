{
 "cells": [
  {
   "cell_type": "markdown",
   "metadata": {},
   "source": [
    "Given a string s, return the longest palindromic substring in s.\n",
    "\n",
    " \n",
    "\n",
    "## Example 1:\n",
    "\n",
    "Input: s = \"babad\"\n",
    "Output: \"bab\"\n",
    "Note: \"aba\" is also a valid answer.\n",
    "## Example 2:\n",
    "\n",
    "Input: s = \"cbbd\"\n",
    "Output: \"bb\"\n",
    "## Example 3:\n",
    "\n",
    "Input: s = \"a\"\n",
    "Output: \"a\"\n",
    "## Example 4:\n",
    "\n",
    "Input: s = \"ac\"\n",
    "Output: \"a\"\n",
    " \n",
    "\n",
    "Constraints:\n",
    "\n",
    "1 <= s.length <= 1000\n",
    "s consist of only digits and English letters (lower-case and/or upper-case),"
   ]
  },
  {
   "cell_type": "code",
   "execution_count": 183,
   "metadata": {},
   "outputs": [],
   "source": [
    "# My sol1 \n",
    "class Solution:\n",
    "    def longestPalindrome(self, s):\n",
    "        s2 = \"#\".join('^{}$'.format(s))\n",
    "        n =len(s2)\n",
    "        b = [0,1]\n",
    "        a = [0]*n\n",
    "        m = 0\n",
    "        for i in range(1,n-1):\n",
    "            while ((s2[i-a[i]]==s2[i+a[i]]) & (a[i]<=i) &(a[i]<=n-i-2)):\n",
    "                a[i]+= 1\n",
    "            b = [int((i-a[i])/2),int((i+a[i])/2)-1] if 2*a[i]+1>m else b\n",
    "            m = max(2*a[i],m)\n",
    "        return s[b[0]:b[1]]"
   ]
  },
  {
   "cell_type": "code",
   "execution_count": 15,
   "metadata": {},
   "outputs": [],
   "source": [
    "# My sol2\n",
    "class Solution:\n",
    "    def longestPalindrome(self, s):\n",
    "        s2 = \"#\".join('^{}$'.format(s))\n",
    "        n =len(s2)\n",
    "        b = [0,1]\n",
    "        a = [0]*n\n",
    "        m = 0\n",
    "        for i in range(1,n-1):\n",
    "            a[i] = int(m/2)\n",
    "            while ((s2[i-a[i]:i+a[i]+1]==s2[i-a[i]:i+a[i]+1][::-1]) & (a[i]<=i) &(a[i]<=n-i-2)):\n",
    "                a[i]+= 1\n",
    "            b = [int((i-a[i])/2),int((i+a[i])/2)-1] if 2*a[i]>m else b\n",
    "            m = max(2*a[i],m)\n",
    "        return s[b[0]:b[1]]"
   ]
  },
  {
   "cell_type": "code",
   "execution_count": null,
   "metadata": {},
   "outputs": [],
   "source": []
  }
 ],
 "metadata": {
  "kernelspec": {
   "display_name": "Python 3",
   "language": "python",
   "name": "python3"
  },
  "language_info": {
   "codemirror_mode": {
    "name": "ipython",
    "version": 3
   },
   "file_extension": ".py",
   "mimetype": "text/x-python",
   "name": "python",
   "nbconvert_exporter": "python",
   "pygments_lexer": "ipython3",
   "version": "3.6.9"
  }
 },
 "nbformat": 4,
 "nbformat_minor": 4
}
