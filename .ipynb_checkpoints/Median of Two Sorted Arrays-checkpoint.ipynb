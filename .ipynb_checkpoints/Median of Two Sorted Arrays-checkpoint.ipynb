{
 "cells": [
  {
   "cell_type": "markdown",
   "metadata": {},
   "source": [
    "Given two sorted arrays nums1 and nums2 of size m and n respectively, return the median of the two sorted arrays.\n",
    "\n",
    " \n",
    "\n",
    "## Example 1:\n",
    "\n",
    "Input: nums1 = [1,3], nums2 = [2]\n",
    "Output: 2.00000\n",
    "Explanation: merged array = [1,2,3] and median is 2.\n",
    "## Example 2:\n",
    "\n",
    "Input: nums1 = [1,2], nums2 = [3,4]\n",
    "Output: 2.50000\n",
    "Explanation: merged array = [1,2,3,4] and median is (2 + 3) / 2 = 2.5.\n",
    "## Example 3:\n",
    "\n",
    "Input: nums1 = [0,0], nums2 = [0,0]\n",
    "Output: 0.00000\n",
    "## Example 4:\n",
    "\n",
    "Input: nums1 = [], nums2 = [1]\n",
    "Output: 1.00000\n",
    "## Example 5:\n",
    "\n",
    "Input: nums1 = [2], nums2 = []\n",
    "Output: 2.00000\n",
    " \n",
    "\n",
    "Constraints:\n",
    "\n",
    "nums1.length == m\n",
    "nums2.length == n\n",
    "0 <= m <= 1000\n",
    "0 <= n <= 1000\n",
    "1 <= m + n <= 2000\n",
    "-106 <= nums1[i], nums2[i] <= 106"
   ]
  },
  {
   "cell_type": "code",
   "execution_count": null,
   "metadata": {},
   "outputs": [],
   "source": [
    "class Solution:\n",
    "    def findMedianSortedArrays(self, nums1: List[int], nums2: List[int]) -> float:\n",
    "        num = nums1 + nums2\n",
    "        n = len(num)\n",
    "        num = sorted(num)\n",
    "        if (n%2==0):\n",
    "            return (num[int(n/2 )-1]+num[int(n/2)])/2\n",
    "        else:\n",
    "            return num[int((n-1)/2)]\n",
    "\n",
    "# \"Runtime: 72 ms, faster than 99.95% of Python3 online submissions for Median of Two Sorted Arrays.\n",
    "# Memory Usage: 14.5 MB, less than 82.92% of Python3 online submissions for Median of Two Sorted Arrays.\""
   ]
  },
  {
   "cell_type": "code",
   "execution_count": null,
   "metadata": {},
   "outputs": [],
   "source": []
  },
  {
   "cell_type": "code",
   "execution_count": null,
   "metadata": {},
   "outputs": [],
   "source": []
  },
  {
   "cell_type": "code",
   "execution_count": null,
   "metadata": {},
   "outputs": [],
   "source": []
  },
  {
   "cell_type": "code",
   "execution_count": null,
   "metadata": {},
   "outputs": [],
   "source": []
  }
 ],
 "metadata": {
  "kernelspec": {
   "display_name": "Python 3",
   "language": "python",
   "name": "python3"
  },
  "language_info": {
   "codemirror_mode": {
    "name": "ipython",
    "version": 3
   },
   "file_extension": ".py",
   "mimetype": "text/x-python",
   "name": "python",
   "nbconvert_exporter": "python",
   "pygments_lexer": "ipython3",
   "version": "3.6.9"
  }
 },
 "nbformat": 4,
 "nbformat_minor": 4
}
