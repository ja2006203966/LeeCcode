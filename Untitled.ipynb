{
 "cells": [
  {
   "cell_type": "code",
   "execution_count": 24,
   "metadata": {},
   "outputs": [],
   "source": [
    "class Solution:\n",
    "    def intToRoman(self, num: int) -> str:\n",
    "        # L = {1:\"I\", 5:\"V\", 10:\"X\", 50:\"L\", 100:\"C\", 500:\"D\", 1000:\"M\"}\n",
    "        L = [\"I\", \"V\", \"X\", \"L\", \"C\", \"D\", \"M\"]\n",
    "        l = [1,5,10,50,100,500,1000]\n",
    "        x = []\n",
    "        for i in range(7):\n",
    "            x.append(num//(l[6-i]))\n",
    "            num = num%l[6-i]\n",
    "        s = \"\"\n",
    "        x = [x[6-i] for i in range(7) ]\n",
    "        x = x+[0]\n",
    "        jp=0\n",
    "        for i in range(7):\n",
    "            if jp:\n",
    "                jp=0\n",
    "                continue\n",
    "            if x[i]<=3:\n",
    "                sp =\"\"\n",
    "                for j in range(x[i]):\n",
    "                    sp =  L[i]+sp\n",
    "            else:\n",
    "                if x[i]==4 and x[i+1]==1:\n",
    "                    jp=1\n",
    "                    sp = L[i]+L[i+2]\n",
    "                else:\n",
    "                    sp =L[i+1]\n",
    "                    for j in range(x[i]-3):\n",
    "                        sp = L[i]+sp\n",
    "            s = sp +s\n",
    "        return s\n",
    "\n",
    "                \n",
    "        "
   ]
  },
  {
   "cell_type": "code",
   "execution_count": 25,
   "metadata": {},
   "outputs": [
    {
     "data": {
      "text/plain": [
       "'LX'"
      ]
     },
     "execution_count": 25,
     "metadata": {},
     "output_type": "execute_result"
    }
   ],
   "source": [
    "Solution().intToRoman(60)"
   ]
  },
  {
   "cell_type": "code",
   "execution_count": 26,
   "metadata": {},
   "outputs": [
    {
     "data": {
      "text/plain": [
       "'L@'"
      ]
     },
     "execution_count": 26,
     "metadata": {},
     "output_type": "execute_result"
    }
   ],
   "source": [
    "\"L\"+\"@\""
   ]
  },
  {
   "cell_type": "code",
   "execution_count": 31,
   "metadata": {},
   "outputs": [],
   "source": [
    "class Solution:\n",
    "    def romanToInt(self, s: str) -> int:\n",
    "        D = {\"I\":1, \"V\":5, \"X\":10, \"L\":50, \"C\":100, \"D\":500, \"M\":1000,\"@\":0}\n",
    "        s =s+\"@\"\n",
    "        v=0\n",
    "        vp =0\n",
    "        for i in range(len(s)-1):\n",
    "            if s[i]==s[i+1]:\n",
    "                vp+=D[s[i]]\n",
    "            if D[s[i+1]]>D[s[i]]:\n",
    "                v = v-vp-D[s[i]]\n",
    "                vp=0\n",
    "            if D[s[i+1]]<D[s[i]]:\n",
    "                v+=D[s[i]]+vp\n",
    "                vp=0\n",
    "        return v"
   ]
  },
  {
   "cell_type": "code",
   "execution_count": 32,
   "metadata": {},
   "outputs": [
    {
     "name": "stdout",
     "output_type": "stream",
     "text": [
      "0\n",
      "1\n",
      "2\n"
     ]
    },
    {
     "data": {
      "text/plain": [
       "3"
      ]
     },
     "execution_count": 32,
     "metadata": {},
     "output_type": "execute_result"
    }
   ],
   "source": [
    "Solution().romanToInt(\"III\")"
   ]
  },
  {
   "cell_type": "code",
   "execution_count": 35,
   "metadata": {},
   "outputs": [
    {
     "data": {
      "text/plain": [
       "True"
      ]
     },
     "execution_count": 35,
     "metadata": {},
     "output_type": "execute_result"
    }
   ],
   "source": [
    "\"123\"[0:0] in \"123\""
   ]
  },
  {
   "cell_type": "code",
   "execution_count": null,
   "metadata": {},
   "outputs": [],
   "source": [
    "class Solution:\n",
    "    def longestCommonPrefix(self, strs: List[str]) -> str:\n",
    "        N = len(strs)\n",
    "        s = strs[0]\n",
    "        n =len(s)\n",
    "        i, j = 0, 0\n",
    "        c = 1\n",
    "        sm = \"\"\n",
    "        while(i<n and j<=n ):\n",
    "            s0 = s[i:j]\n",
    "            for k in range(N):\n",
    "                if s0 not in strs[k]:\n",
    "                    c = 0\n",
    "                    break\n",
    "                if k == N-1:\n",
    "                    c=1\n",
    "                    if len(s0)>len(sm):\n",
    "                        sm=s0\n",
    "            if c:\n",
    "                j+=1\n",
    "            else:\n",
    "                i+=1\n",
    "        return sm"
   ]
  },
  {
   "cell_type": "code",
   "execution_count": null,
   "metadata": {},
   "outputs": [],
   "source": [
    "class Solution:\n",
    "    def longestCommonPrefix(self, strs: List[str]) -> str:\n",
    "        m=200\n",
    "        N =len(strs)\n",
    "        s= strs[0]\n",
    "        m=len(s)\n",
    "        ans = \"\"\n",
    "        b=0\n",
    "        for n in range(m+1):\n",
    "            for k in range(N):\n",
    "                if s[0:n]!=strs[k][0:n]:\n",
    "                    b=1\n",
    "                    break\n",
    "            if b==1:\n",
    "                break\n",
    "            else:\n",
    "                ans = s[0:n]\n",
    "        return ans"
   ]
  },
  {
   "cell_type": "code",
   "execution_count": null,
   "metadata": {},
   "outputs": [],
   "source": [
    "class Solution:\n",
    "    def threeSum(self, nums: List[int]) -> List[List[int]]:\n",
    "        i,j,k =0,1,2\n",
    "        ans = []\n",
    "        n = len(nums)\n",
    "        nums = sorted(nums)\n",
    "        while( k<n):\n",
    "            if i==j:\n",
    "                j+=1\n",
    "            if j==k:\n",
    "                k+=1\n",
    "            if i==k:\n",
    "                k+=1\n",
    "            sm = nums[i]+nums[j]+nums[k]\n",
    "            if sm ==0:\n",
    "                a = [nums[i],nums[j],nums[k]]\n",
    "                if a not in ans:\n",
    "                    ans.append(a)\n",
    "            if k<n-1 and nums[i]+nums[j]+nums[k]<=0:\n",
    "                k+=1\n",
    "            elif j<n-2 and nums[i]+nums[j]+nums[j+1]<=0:\n",
    "                j+=1\n",
    "                k = j+1\n",
    "            elif i<n-3 and nums[i]+nums[i+1]+nums[i+2]<=0: \n",
    "                i+=1\n",
    "                j = i+1\n",
    "                k = i+2\n",
    "            else :\n",
    "                break\n",
    "            \n",
    "        return ans"
   ]
  },
  {
   "cell_type": "code",
   "execution_count": 39,
   "metadata": {},
   "outputs": [
    {
     "ename": "TypeError",
     "evalue": "unhashable type: 'set'",
     "output_type": "error",
     "traceback": [
      "\u001b[0;31m---------------------------------------------------------------------------\u001b[0m",
      "\u001b[0;31mTypeError\u001b[0m                                 Traceback (most recent call last)",
      "\u001b[0;32m<ipython-input-39-937df4f93c7e>\u001b[0m in \u001b[0;36m<module>\u001b[0;34m\u001b[0m\n\u001b[0;32m----> 1\u001b[0;31m \u001b[0mset\u001b[0m\u001b[0;34m(\u001b[0m\u001b[0;34m[\u001b[0m\u001b[0mset\u001b[0m\u001b[0;34m(\u001b[0m\u001b[0;34m[\u001b[0m\u001b[0;36m2\u001b[0m\u001b[0;34m,\u001b[0m\u001b[0;36m1\u001b[0m\u001b[0;34m]\u001b[0m\u001b[0;34m)\u001b[0m\u001b[0;34m,\u001b[0m \u001b[0mset\u001b[0m\u001b[0;34m(\u001b[0m\u001b[0;34m[\u001b[0m\u001b[0;36m1\u001b[0m\u001b[0;34m,\u001b[0m\u001b[0;36m2\u001b[0m\u001b[0;34m]\u001b[0m\u001b[0;34m)\u001b[0m \u001b[0;34m]\u001b[0m \u001b[0;34m)\u001b[0m\u001b[0;34m\u001b[0m\u001b[0;34m\u001b[0m\u001b[0m\n\u001b[0m",
      "\u001b[0;31mTypeError\u001b[0m: unhashable type: 'set'"
     ]
    }
   ],
   "source": [
    "set([set([2,1]), set([1,2]) ] )"
   ]
  },
  {
   "cell_type": "code",
   "execution_count": null,
   "metadata": {},
   "outputs": [],
   "source": [
    "class Solution:\n",
    "    def threeSum(self, nums: List[int]) -> List[List[int]]:\n",
    "        ans = []\n",
    "        n = len(nums)\n",
    "        nums = sorted(nums)\n",
    "        for i in range(n-2):\n",
    "            j = i+1\n",
    "            k = n-1\n",
    "            if nums[i]+nums[i+1]+nums[i+2]>0:\n",
    "                break\n",
    "            while( j<k):\n",
    "                s = nums[i]+nums[j]+nums[k]\n",
    "                if s==0 :\n",
    "                    if not ([nums[i], nums[j], nums[k]] in ans):\n",
    "                        ans.append([nums[i], nums[j], nums[k]])\n",
    "                    k-=1\n",
    "                    j+=1\n",
    "                elif s>0:\n",
    "                    k-=1\n",
    "                else:\n",
    "                    j+=1\n",
    "            \n",
    "        return ans"
   ]
  },
  {
   "cell_type": "code",
   "execution_count": 4,
   "metadata": {},
   "outputs": [
    {
     "data": {
      "text/plain": [
       "('1ad@e@fbd@e@fc2', 'ad@e@fbd@e@fc')"
      ]
     },
     "execution_count": 4,
     "metadata": {},
     "output_type": "execute_result"
    }
   ],
   "source": [
    "s = \"d@e@f\".join(\"abc\")\n",
    "s.join(\"12\"),s"
   ]
  },
  {
   "cell_type": "code",
   "execution_count": 6,
   "metadata": {},
   "outputs": [
    {
     "data": {
      "text/plain": [
       "'12'"
      ]
     },
     "execution_count": 6,
     "metadata": {},
     "output_type": "execute_result"
    }
   ],
   "source": [
    "\"123\"[:2]"
   ]
  },
  {
   "cell_type": "code",
   "execution_count": null,
   "metadata": {},
   "outputs": [],
   "source": []
  },
  {
   "cell_type": "code",
   "execution_count": null,
   "metadata": {},
   "outputs": [],
   "source": []
  }
 ],
 "metadata": {
  "kernelspec": {
   "display_name": "Python 3",
   "language": "python",
   "name": "python3"
  },
  "language_info": {
   "codemirror_mode": {
    "name": "ipython",
    "version": 3
   },
   "file_extension": ".py",
   "mimetype": "text/x-python",
   "name": "python",
   "nbconvert_exporter": "python",
   "pygments_lexer": "ipython3",
   "version": "3.6.9"
  }
 },
 "nbformat": 4,
 "nbformat_minor": 4
}
